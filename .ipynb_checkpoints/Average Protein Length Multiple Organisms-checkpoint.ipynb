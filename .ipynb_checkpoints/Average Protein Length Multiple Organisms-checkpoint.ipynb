{
 "cells": [
  {
   "cell_type": "markdown",
   "metadata": {
    "collapsed": true
   },
   "source": [
    "# Bioinformatics Workshop\n",
    "###Kavli Institute for Theoretical Physics\n",
    "#### Gita Mahmoudabadi | Phillips Lab | Caltech | August 2015"
   ]
  },
  {
   "cell_type": "code",
   "execution_count": 22,
   "metadata": {
    "collapsed": false
   },
   "outputs": [],
   "source": [
    "import os\n",
    "from Bio import SeqIO\n",
    "from Bio.Seq import Seq\n",
    "from Bio.Alphabet import IUPAC\n",
    "from Bio.SeqRecord import SeqRecord\n",
    "import numpy as np\n",
    "import matplotlib.pyplot as plt\n",
    "%matplotlib inline\n",
    "\n",
    "# changing the directory to the folder where the protein fasta files are stored. \n",
    "path = '/Users/octatig88/anaconda/notebooks/kitp2015/protfiles/'\n",
    "os.chdir(path)\n",
    "\n",
    "# opening a file to record protein length statistic for each organism. \n",
    "outputfile = open('protein_length_stat_multiple_organisms.txt','w') \n",
    "outputfile.write('\\tNumber of Records\\tMean Length\\tMedian Length\\tStandard Deviation\\tMaximum Length\\n')\n",
    "\n",
    "# we need to go through every fasta file to extract protein length information from each. \n",
    "protfiles = os.listdir(path)\n",
    "\n",
    "for protfile in protfiles:\n",
    "    \n",
    "# we need to only look into fasta files because we're going to be generating PDFs as well. \n",
    "    if protfile.endswith(\".fasta\"):\n",
    "        h1=open(protfile)\n",
    "        inputfilename = protfile[0:-6]\n",
    "        outputfile.write(inputfilename + '\\t')\n",
    "    \n",
    "        prot_records= SeqIO.parse(h1, 'fasta')\n",
    "        length_list =[]\n",
    "        prot_des =[]\n",
    "        \n",
    "# looping through each fasta record and calculating the mean, median, max,\n",
    "#std deviation, and number of records examined.\n",
    "        for prot_record in prot_records:  \n",
    "            prot_length = len(prot_record.seq)\n",
    "            length_list.append(prot_length)\n",
    "        \n",
    "        numrec = str(len(length_list))\n",
    "        meanl= str(int(round(np.mean(length_list))))\n",
    "        medl= str(int(round(np.median(length_list))))\n",
    "        dev = str(int(round(np.std(length_list))))\n",
    "        maxl = str(max(length_list))\n",
    "    \n",
    "# writing the extracted protein length statistic to the outputfile.txt \n",
    "        outputfile.write(numrec + '\\t' + meanl + '\\t' + medl + '\\t' + dev + '\\t' + maxl + '\\n')\n",
    "    \n",
    "# closing the fasta file which we opened in this iteration.     \n",
    "        h1.close()\n",
    "                                                         \n",
    "# making a histogram of protein lengths for each fasta file examined.     \n",
    "        fig = plt.figure(dpi = 600)\n",
    "        ax = fig.add_subplot(111)\n",
    "        plt.hist(length_list, bins=200)\n",
    "    \n",
    "        plt.xlabel(\"Protein length (Amino Acids)\")\n",
    "        \n",
    "        plt.ylabel(\"Frequency\")\n",
    "        \n",
    "        figuretext = inputfilename +\"\\nMean= \" + meanl + \"\\nStd= \" + dev + \"\\nNo. Sequences=\" + numrec\n",
    "        plt.text(0.7, 0.7, figuretext , horizontalalignment='center', verticalalignment='center',transform = ax.transAxes)\n",
    "\n",
    "# saving the plot as a pdf in the same directory as the one we started in.        \n",
    "        plt.savefig(inputfilename + \"protein length histogram.pdf\")\n",
    "# closing the plot        \n",
    "        plt.close()\n",
    "        \n",
    "        #plt.title(\"Histogram of \" + inputfilename + \" Protein Lengths\" , fontsize='16')\n",
    "        #fig = plt.figure(figsize=(5, 3))\n",
    "        #plt.xticks(fontsize='14')\n",
    "        #plt.xlim((0,6000))\n",
    "        #plt.show()\n",
    "        \n",
    "        \n",
    "# closing the outputfile.txt after we have extracted information from all fasta files.     \n",
    "outputfile.close() "
   ]
  }
 ],
 "metadata": {
  "kernelspec": {
   "display_name": "Python 3",
   "language": "python",
   "name": "python3"
  },
  "language_info": {
   "codemirror_mode": {
    "name": "ipython",
    "version": 3
   },
   "file_extension": ".py",
   "mimetype": "text/x-python",
   "name": "python",
   "nbconvert_exporter": "python",
   "pygments_lexer": "ipython3",
   "version": "3.4.3"
  }
 },
 "nbformat": 4,
 "nbformat_minor": 0
}
