{
 "cells": [
  {
   "cell_type": "markdown",
   "metadata": {},
   "source": [
    "##Bioinformatics Workshop  \n",
    "###Kavli Institute for Theoretical Physics\n",
    "#### Gita Mahmoudabadi | Phillips Lab | Caltech | August 2015\n",
    "* Variables and variable assignment\n",
    "* Lists \n",
    "* Plotting\n",
    "* Importing libraries \n",
    "* Biopython "
   ]
  },
  {
   "cell_type": "code",
   "execution_count": 72,
   "metadata": {
    "collapsed": false,
    "scrolled": true
   },
   "outputs": [
    {
     "name": "stdout",
     "output_type": "stream",
     "text": [
      "Hello, world.\n",
      "1.6666666666666667\n",
      "2.777777777777778\n",
      "my_list is [1, 2, 3, 4]\n",
      "1\n",
      "[3, 4]\n",
      "[4, 2, 3, 4]\n",
      "[4, 2, 3, 4, 100]\n",
      "The fifth letter in the phrase is o\n",
      "Hello, world.I am at KITP!\n",
      "name\tage\n"
     ]
    },
    {
     "data": {
      "text/plain": [
       "<matplotlib.text.Text at 0x1070e2c18>"
      ]
     },
     "execution_count": 72,
     "metadata": {},
     "output_type": "execute_result"
    },
    {
     "data": {
      "image/png": "[encoded data removed]",
      "text/plain": [
       "<matplotlib.figure.Figure at 0x107023128>"
      ]
     },
     "metadata": {},
     "output_type": "display_data"
    }
   ],
   "source": [
    "#this is a comment\n",
    "print ('Hello, world.') \n",
    "\n",
    "#assigning a variable \n",
    "a= 5/3 \n",
    "\n",
    "#printing a variable\n",
    "print(a)\n",
    "\n",
    "#rounding\n",
    "print(round(a))\n",
    "\n",
    "#squaring a value\n",
    "a_squared = a**2 \n",
    "print(a_squared)\n",
    "\n",
    "#List notations\n",
    "my_list = [1,2,3,4]\n",
    "print('my_list is', my_list)\n",
    "\n",
    "#indexing in python starts at zero\n",
    "print(my_list[0])\n",
    "\n",
    "#printing from the third element all the way to the end\n",
    "print(my_list[2:])\n",
    "\n",
    "#modifying my list, setting the first element to a different value\n",
    "my_list[0]=4\n",
    "print(my_list)\n",
    "\n",
    "#appending to my list\n",
    "my_list.append(100)\n",
    "print (my_list)\n",
    "\n",
    "#strings\n",
    "my_string = 'Hello, world.'\n",
    "\n",
    "#printing the fifth character in a string\n",
    "print('The fifth letter in the phrase is', my_string[4])\n",
    "\n",
    "#you can add strings!\n",
    "new_string = my_string + \"I am at KITP!\"\n",
    "print(new_string)\n",
    "\n",
    "#you can create tab del strings\n",
    "name_string = 'name'\n",
    "age_string = 'age'\n",
    "print( name_string + '\\t' + age_string)\n",
    "\n",
    "#plotting using a library of python (matplotlib) which we're going to use the shorthand plt for\n",
    "import matplotlib.pyplot as plt\n",
    "#will allows us to plot in line in this notebook\n",
    "%matplotlib inline\n",
    "\n",
    "#another useful library for numerical analysis is numpy, which we're going to import as np\n",
    "import numpy as np\n",
    "a = [0,1,2]\n",
    "b= [0,1,4]\n",
    "\n",
    "#ploting a list against b list\n",
    "plt.plot(a,b)\n",
    "\n",
    "# Label the axes.  \n",
    "plt.xlabel('a')\n",
    "plt.ylabel('b')"
   ]
  },
  {
   "cell_type": "code",
   "execution_count": 29,
   "metadata": {
    "collapsed": false
   },
   "outputs": [
    {
     "name": "stdout",
     "output_type": "stream",
     "text": [
      "ATGCTTCTCGTA\n",
      "TACGAAGAGCAT\n",
      "TACGAGAAGCAT\n",
      "AUGCUUCUCGUA\n",
      "MLLV\n",
      "2\n",
      "1\n"
     ]
    }
   ],
   "source": [
    "#importing a very useful library in python called Bio (from biopython package)\n",
    "from Bio.Seq import Seq\n",
    "from Bio.Alphabet import IUPAC\n",
    "'''Although we can work with DNA sequences stored as strings, it is much easier if we work with them as\n",
    "BioPython Seq objects, which allows us to reap the benefits of all of BioPython's pre-built functions. '''\n",
    "\n",
    "#you can think of Seq() as a function that allows you now to manipulate the string of ACGTs.\n",
    "dna_seq = Seq('ATGCTTCTCGTA')\n",
    "print (dna_seq)\n",
    "\n",
    "#we can get the complement of a sequence\n",
    "print (dna_seq.complement())\n",
    "\n",
    "#the reverse complements of a sequence\n",
    "print(dna_seq.reverse_complement())\n",
    "\n",
    "#transcribing the sequence\n",
    "rna_seq = dna_seq.transcribe()\n",
    "print (rna_seq)\n",
    "\n",
    "#translating the sequence\n",
    "prot_seq = dna_seq.translate()\n",
    "print (prot_seq)\n",
    "\n",
    "#counting the presence of a character or a subsequence\n",
    "print(dna_seq.count(\"A\"))\n",
    "\n",
    "#imagine if you wanted count potential start codons \n",
    "print(dna_seq.count(\"ATG\"))"
   ]
  }
 ],
 "metadata": {
  "kernelspec": {
   "display_name": "Python 3",
   "language": "python",
   "name": "python3"
  },
  "language_info": {
   "codemirror_mode": {
    "name": "ipython",
    "version": 3
   },
   "file_extension": ".py",
   "mimetype": "text/x-python",
   "name": "python",
   "nbconvert_exporter": "python",
   "pygments_lexer": "ipython3",
   "version": "3.4.3"
  }
 },
 "nbformat": 4,
 "nbformat_minor": 0
}
