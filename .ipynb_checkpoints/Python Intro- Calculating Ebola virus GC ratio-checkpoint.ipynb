{
 "cells": [
  {
   "cell_type": "markdown",
   "metadata": {},
   "source": [
    "##Bioinformatics Workshop  \n",
    "###Kavli Institute for Theoretical Physics\n",
    "#### Gita Mahmoudabadi | Phillips Lab | Caltech | August 2015\n",
    "* Variable types and variable assignment\n",
    "* Lists and dictionaries\n",
    "* Functions\n",
    "* Importing libraries "
   ]
  },
  {
   "cell_type": "code",
   "execution_count": 35,
   "metadata": {
    "collapsed": false
   },
   "outputs": [],
   "source": [
    "def sayHello(name, age, country):\n",
    "    if age < 40:\n",
    "        print (\"My name is %s, and I am %d years old!\" %(name, age))\n",
    "    else: \n",
    "        print (\"My name is %s, and I am from %s\" %(name, country))"
   ]
  },
  {
   "cell_type": "code",
   "execution_count": 37,
   "metadata": {
    "collapsed": false
   },
   "outputs": [
    {
     "name": "stdout",
     "output_type": "stream",
     "text": [
      "My name is Jenny, and I am from U.S.A.\n"
     ]
    }
   ],
   "source": [
    "sayHello('Jenny', 45, \"U.S.A.\")"
   ]
  }
 ],
 "metadata": {
  "kernelspec": {
   "display_name": "Python 3",
   "language": "python",
   "name": "python3"
  },
  "language_info": {
   "codemirror_mode": {
    "name": "ipython",
    "version": 3
   },
   "file_extension": ".py",
   "mimetype": "text/x-python",
   "name": "python",
   "nbconvert_exporter": "python",
   "pygments_lexer": "ipython3",
   "version": "3.4.3"
  }
 },
 "nbformat": 4,
 "nbformat_minor": 0
}
