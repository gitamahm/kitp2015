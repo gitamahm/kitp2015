{
 "cells": [
  {
   "cell_type": "markdown",
   "metadata": {},
   "source": [
    "##Bioinformatics Workshop  \n",
    "###Kavli Institute for Theoretical Physics\n",
    "#### Gita Mahmoudabadi | Phillips Lab | Caltech | August 2015"
   ]
  },
  {
   "cell_type": "code",
   "execution_count": null,
   "metadata": {
    "collapsed": true
   },
   "outputs": [],
   "source": [
    "from Bio import SeqIO\n",
    "from Bio.Seq import Seq\n",
    "from Bio.SeqRecord import SeqRecord\n",
    "import numpy as np\n",
    "import re\n",
    "import os\n",
    "\n",
    "#this is the file containing all reads for one of the oral phages\n",
    "main_file = 'strepphage_data.fastq' \n",
    "\n",
    "#creating a file handle to parse through the fastq records \n",
    "h_main = open(main_file) \n",
    "records=SeqIO.parse(h_main, 'fastq')                                                                                                                                          \n",
    "\n",
    "#number of rows we need. One row per read. \n",
    "num_r = len(records)\n",
    "\n",
    "#number of columns is going to be the maximum number of bases that were read, which is 300 here. \n",
    "num_c = 300\n",
    "\n",
    "#we need to initialize an array of a certain size. Imagine each read as a row, and the quality score for each base is a column. \n",
    "main_array = np.zero(num_r, num_c)\n",
    "#we need to be able to take mean of each column, but the reads aren't all the same length. Therefore, we need to convert the array of zeros into NANs because we can omit them in doing averages\n",
    "main_array[:]=np.nan\n",
    "\n",
    "\n",
    "#looping through each fastq record in the mainfile\n",
    "for record in records: \n",
    "    #creating a list out of the Phred quality scores. \n",
    "    q_list = record.letter_annotations[\"phred_quality\"]\n",
    "    read_lengths = len(q_list)\n",
    "    \n",
    "    for q in range(len(q_list)):\n",
    "        #if the score is greater than 29 (ascii for an error rate of 1 in 1000), value is 1, and we can continue stepping through the loop\n",
    "        if q_list[q] > 29:\n",
    "            value = 1\n",
    "        else: \n",
    "            value = 0 \n",
    "            SeqIO.write(record, h_lowq, 'fastq')\n",
    "            cl = cl + 1\n",
    "            break \n",
    "    #at the end of the interior loop, if the value is still 1, that means that the list of phred scores for that record has not contained any low quality bases, and therefore we can write the record to the highq_main.fastq file. \n",
    "    if value ==1:\n",
    "        SeqIO.write(record, h_highq, 'fastq')\n",
    "        #here, we are keeping count of high quality records\n",
    "#looping through each fastq record in the mainfile\n",
    "for record in records: \n",
    "    #creating a list out of the Phred scores\n",
    "    q_list = record.letter_annotations[\"phred_quality\"]\n",
    "    value=0\n",
    "    #looping through the list of Phred scores for each sequence. \n",
    "    for q in range(len(q_list)):\n",
    "        #if the score is greater than 29 (ascii for an error rate of 1 in 1000), value is 1, and we can continue stepping through the loop\n",
    "        if q_list[q] > 29:\n",
    "            value = 1\n",
    "        else: \n",
    "            value = 0 \n",
    "            SeqIO.write(record, h_lowq, 'fastq')\n",
    "            cl = cl + 1\n",
    "            break \n",
    "    #at the end of the interior loop, if the value is still 1, that means that the list of phred scores for that record has not contained any low quality bases, and therefore we can write the record to the highq_main.fastq file. \n",
    "    if value ==1:\n",
    "        SeqIO.write(record, h_highq, 'fastq')\n",
    "        #here, we are keeping count of high quality records\n",
    "        ch = ch + 1"
   ]
  }
 ],
 "metadata": {
  "kernelspec": {
   "display_name": "Python 3",
   "language": "python",
   "name": "python3"
  },
  "language_info": {
   "codemirror_mode": {
    "name": "ipython",
    "version": 3
   },
   "file_extension": ".py",
   "mimetype": "text/x-python",
   "name": "python",
   "nbconvert_exporter": "python",
   "pygments_lexer": "ipython3",
   "version": "3.4.3"
  }
 },
 "nbformat": 4,
 "nbformat_minor": 0
}
