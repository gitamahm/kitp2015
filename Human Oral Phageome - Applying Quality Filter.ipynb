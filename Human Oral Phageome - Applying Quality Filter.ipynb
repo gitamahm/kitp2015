{
 "cells": [
  {
   "cell_type": "markdown",
   "metadata": {},
   "source": [
    "##Bioinformatics Workshop  \n",
    "###Kavli Institute for Theoretical Physics\n",
    "#### Gita Mahmoudabadi | Phillips Lab | Caltech | August 2015"
   ]
  },
  {
   "cell_type": "markdown",
   "metadata": {},
   "source": [
    "In this part of the excercise, we will perform quality control on Next Generation Sequencing data. Our first filter will eliminate any reads that contain any bases with a Phred quality score below 30. This quality score correpsonds to an error rate of 1 base per 1000 bases. \n",
    "\n",
    "The input file, called \"main_file\" will have phage sequences obtained from different individuals' oral cavity. The output files will be \"highq_main.fastq\" for high quality reads and \"lowq_main.fastq\" for low quality reads. "
   ]
  },
  {
   "cell_type": "markdown",
   "metadata": {
    "collapsed": true
   },
   "source": [
    "Let's start by importing relevant modules and opening some files. But first, make sure to have moved \"oral_phages.fastq\" to the directory containing this ipython notebook. Otherwise you will need the os module to change between directories from within your python code.  "
   ]
  },
  {
   "cell_type": "code",
   "execution_count": 26,
   "metadata": {
    "collapsed": true
   },
   "outputs": [],
   "source": [
    "from Bio import SeqIO\n",
    "from Bio.Seq import Seq\n",
    "from Bio.SeqRecord import SeqRecord\n",
    "import re\n",
    "import os\n",
    "\n",
    "#this is the file containing all joined paired end main\n",
    "main_file = 'oral_phages.fastq' \n",
    "\n",
    "#creating a file handle to parse through the fastq records \n",
    "h_main = open(main_file) \n",
    "records=SeqIO.parse(h_main, 'fastq')                                                                                                                                          \n",
    "\n",
    "#opening a file to keep all high quality main in\n",
    "h_highq= open('highq_main.fastq','a') \n",
    "\n",
    "#opening a file to keep all low quality main in\n",
    "h_lowq = open('lowq_main.fastq','a')  \n"
   ]
  },
  {
   "cell_type": "markdown",
   "metadata": {
    "collapsed": true
   },
   "source": [
    "We will have a for loop that will allow us to examine each \"record\" or read. In addition to that outer loop, we will need a inner loop that to examine every single base within a record. If any record contains low quality bases, we will write it to the \"lowq_main.fastq\". Throughout we will also keep a count of low and high quality reads. "
   ]
  },
  {
   "cell_type": "code",
   "execution_count": 27,
   "metadata": {
    "collapsed": false
   },
   "outputs": [],
   "source": [
    "#initializing counters. ch will keep count of high quality reads and cl will keep count of low quality ones. \n",
    "c=0\n",
    "ch = 0\n",
    "cl = 0\n",
    "\n",
    "#looping through each fastq record in the mainfile\n",
    "for record in records: \n",
    "    #creating a list out of the Phred scores, while ignoring the first and last two bases in every sequence they typically have low Phred scores, but that can be resolved using error detection codes for barcode sequences\n",
    "    q_list = record.letter_annotations[\"phred_quality\"][2:-2]\n",
    "    value=0\n",
    "    #looping through the list of Phred scores for each sequence. \n",
    "    for q in range(len(q_list)):\n",
    "        #if the score is greater than 29 (ascii for an error rate of 1 in 1000), value is 1, and we can continue stepping through the loop\n",
    "        if q_list[q] > 29:\n",
    "            value = 1\n",
    "        else: \n",
    "            value = 0 \n",
    "            SeqIO.write(record, h_lowq, 'fastq')\n",
    "            cl = cl + 1\n",
    "            break \n",
    "    #at the end of the interior loop, if the value is still 1, that means that the list of phred scores for that record has not contained any low quality bases, and therefore we can write the record to the highq_main.fastq file. \n",
    "    if value ==1:\n",
    "        SeqIO.write(record, h_highq, 'fastq')\n",
    "        #here, we are keeping count of high quality records\n",
    "        ch = ch + 1"
   ]
  },
  {
   "cell_type": "markdown",
   "metadata": {},
   "source": [
    "Let's not forget to close our open files!"
   ]
  },
  {
   "cell_type": "code",
   "execution_count": 28,
   "metadata": {
    "collapsed": false
   },
   "outputs": [],
   "source": [
    "h_highq.close()\n",
    "h_lowq.close() \n",
    "h_main.close()"
   ]
  },
  {
   "cell_type": "markdown",
   "metadata": {},
   "source": [
    "Finally, the counters will tell us how many reads we ended up with after quality filtering. "
   ]
  },
  {
   "cell_type": "code",
   "execution_count": 29,
   "metadata": {
    "collapsed": false
   },
   "outputs": [
    {
     "name": "stdout",
     "output_type": "stream",
     "text": [
      "There were 7502516 high qulaity sequences and 764156 low quality sequences found.\n"
     ]
    }
   ],
   "source": [
    "print ('There were %d high qulaity sequences and %d low quality sequences found.' %(ch, cl)) "
   ]
  }
 ],
 "metadata": {
  "kernelspec": {
   "display_name": "Python 3",
   "language": "python",
   "name": "python3"
  },
  "language_info": {
   "codemirror_mode": {
    "name": "ipython",
    "version": 3
   },
   "file_extension": ".py",
   "mimetype": "text/x-python",
   "name": "python",
   "nbconvert_exporter": "python",
   "pygments_lexer": "ipython3",
   "version": "3.4.3"
  }
 },
 "nbformat": 4,
 "nbformat_minor": 0
}
