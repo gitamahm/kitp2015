{
 "cells": [
  {
   "cell_type": "markdown",
   "metadata": {},
   "source": [
    "##Bioinformatics Workshop  \n",
    "###Kavli Institute for Theoretical Physics\n",
    "#### Gita Mahmoudabadi | Phillips Lab | Caltech | August 2015"
   ]
  },
  {
   "cell_type": "code",
   "execution_count": 4,
   "metadata": {
    "collapsed": false
   },
   "outputs": [
    {
     "name": "stdout",
     "output_type": "stream",
     "text": [
      "The number of protein records investigated: 40203\n",
      "The mean length of mouse proteins: 448\n",
      "The median length of mouse proteins: 349\n",
      "The standard deviation of mouse protein lengths: 391\n",
      "The maximum protein length in mouse: 8891\n",
      "The minimum protein length in mouse: 9\n",
      "Some information about shortest protein: tr|Q3TML8|Q3TML8_MOUSE Putative uncharacterized protein (Fragment) OS=Mus musculus GN=Zmym5 PE=2 SV=1\n",
      "And, some information about the longest protein: sp|A2AAJ9|OBSCN_MOUSE Obscurin OS=Mus musculus GN=Obscn PE=2 SV=2\n"
     ]
    },
    {
     "data": {
      "image/png": "[encoded data removed]",
      "text/plain": [
       "<matplotlib.figure.Figure at 0x107e49b00>"
      ]
     },
     "metadata": {},
     "output_type": "display_data"
    }
   ],
   "source": [
    "from Bio import SeqIO\n",
    "from Bio.Seq import Seq\n",
    "from Bio.Alphabet import IUPAC\n",
    "from Bio.SeqRecord import SeqRecord\n",
    "import numpy as np\n",
    "import matplotlib.pyplot as plt\n",
    "%matplotlib inline\n",
    "import os\n",
    "\n",
    "# providing the directory path containing the fasta file of interest. \n",
    "prot = '/Users/octatig88/anaconda/notebooks/kitp2015/protfiles/Mouse.fasta' \n",
    "\n",
    "# opening the file of interest and using h1 as the file handle. \n",
    "h1=open(prot) \n",
    "\n",
    "# using Biopython's SeqIO object to parse through each protein in this fasta file. \n",
    "prot_records= SeqIO.parse(h1, 'fasta')        \n",
    "\n",
    "# creating lists to store each protein's length and description.\n",
    "length_list =[]                                                                                                                                  \n",
    "prot_des =[]\n",
    "\n",
    "# for each fasta record in the file, we're going to extract length of the protein and append it to length_list\n",
    "for prot_record in prot_records:   \n",
    "\tprot_length = len(prot_record.seq)\n",
    "\tlength_list.append(prot_length)\n",
    "\tprot_des.append(prot_record.description)\n",
    "\t\n",
    "\n",
    "# printing statistics about the protein lengths we captured from this fasta file, as well as the number of records we examined\n",
    "print (\"The number of protein records investigated:\", len(length_list))\n",
    "print (\"The mean length of mouse proteins:\", int(round(np.mean(length_list))))\n",
    "print (\"The median length of mouse proteins:\", int(round(np.median(length_list))))\n",
    "print (\"The standard deviation of mouse protein lengths:\", int(round(np.std(length_list))))\n",
    "print (\"The maximum protein length in mouse:\", max(length_list))\n",
    "print (\"The minimum protein length in mouse:\", min(length_list))\n",
    "\n",
    "# getting the indices of the protein with the longest and shortest lengths in the provided fasta file. \n",
    "max_prot_index = length_list.index(max(length_list))\n",
    "min_prot_index = length_list.index(min(length_list))\n",
    "\n",
    "# using the indices to get the protein description from the description list. \n",
    "print (\"Some information about shortest protein:\", prot_des[min_prot_index])\n",
    "print (\"And, some information about the longest protein:\", prot_des[max_prot_index])\n",
    "\n",
    "# ploting the histogram of protein lengths.\n",
    "fig = plt.figure(dpi = 2000)\n",
    "plt.hist(length_list, bins=50)\n",
    "plt.title(\"Histogram of Mouse Protein Lengths\")\n",
    "plt.xlabel(\"Protein Length (Amino Acids)\")\n",
    "plt.ylabel(\"Frequency\")\n",
    "plt.show()\n",
    "\n",
    "# closing the fasta file\n",
    "h1.close() "
   ]
  }
 ],
 "metadata": {
  "kernelspec": {
   "display_name": "Python 3",
   "language": "python",
   "name": "python3"
  },
  "language_info": {
   "codemirror_mode": {
    "name": "ipython",
    "version": 3
   },
   "file_extension": ".py",
   "mimetype": "text/x-python",
   "name": "python",
   "nbconvert_exporter": "python",
   "pygments_lexer": "ipython3",
   "version": "3.4.3"
  }
 },
 "nbformat": 4,
 "nbformat_minor": 0
}
