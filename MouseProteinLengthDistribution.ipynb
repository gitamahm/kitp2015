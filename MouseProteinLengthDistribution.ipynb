{
 "cells": [
  {
   "cell_type": "markdown",
   "metadata": {},
   "source": [
    "#Evolutionary Cell Biology Course at KITP\n",
    "##Bioinformatics Session \n",
    "###Gita Mahmoudabadi | Phillips Lab | Caltech | 2015\n",
    "\n",
    "The goal of this script to calculate the length of each mouse protein and plot the length distribution. "
   ]
  },
  {
   "cell_type": "code",
   "execution_count": 1,
   "metadata": {
    "collapsed": true
   },
   "outputs": [],
   "source": [
    "#importing useful libraries\n",
    "from Bio import SeqIO\n",
    "from Bio.Seq import Seq\n",
    "from Bio.Alphabet import IUPAC\n",
    "from Bio.SeqRecord import SeqRecord\n",
    "import numpy as np\n",
    "import matplotlib.pyplot as plt\n",
    "%matplotlib inline"
   ]
  },
  {
   "cell_type": "code",
   "execution_count": 2,
   "metadata": {
    "collapsed": true
   },
   "outputs": [],
   "source": [
    "#opening the Mouse.fasta file\n",
    "prot = 'Mouse.fasta'\n",
    "h1= open(prot)"
   ]
  },
  {
   "cell_type": "code",
   "execution_count": 3,
   "metadata": {
    "collapsed": true
   },
   "outputs": [],
   "source": [
    "#parsing through the mouse fasta file\n",
    "prot_records = SeqIO.parse(h1, 'fasta')\n",
    "\n",
    "#initializing vectors to hold in length and descriptions of each protein\n",
    "length_list =[]\n",
    "prot_des =[]\n"
   ]
  },
  {
   "cell_type": "code",
   "execution_count": 4,
   "metadata": {
    "collapsed": true
   },
   "outputs": [],
   "source": [
    "#let's loop through the mouse fasta file and collect length and description information for each protein record, and append the information to the length and description vectors we initialized.\n",
    "for prot_record in prot_records:\n",
    "    prot_length = len(prot_record.seq)\n",
    "    length_list.append(prot_length)\n",
    "    prot_des.append(prot_record.description)"
   ]
  },
  {
   "cell_type": "code",
   "execution_count": 11,
   "metadata": {
    "collapsed": false
   },
   "outputs": [
    {
     "name": "stdout",
     "output_type": "stream",
     "text": [
      "The number of proteins investigated is: 146101\n",
      "The average protein length is: 388.0\n",
      "The standard deviation of protein lengths is: 411.0\n",
      "The median of protein lengths is: 299.0\n",
      "The max protein length is: 35213\n",
      "The min protein length is: 5\n"
     ]
    }
   ],
   "source": [
    "#printing out mouse protein length statistics \n",
    "print('The number of proteins investigated is:', len(length_list))\n",
    "print('The average protein length is:', round(np.mean(length_list)))\n",
    "print('The standard deviation of protein lengths is:', round(np.std(length_list)))\n",
    "print('The median of protein lengths is:', round(np.median(length_list)))\n",
    "print('The max protein length is:', round(np.max(length_list)))\n",
    "print('The min protein length is:', round(np.min(length_list)))"
   ]
  },
  {
   "cell_type": "code",
   "execution_count": 13,
   "metadata": {
    "collapsed": false
   },
   "outputs": [
    {
     "name": "stdout",
     "output_type": "stream",
     "text": [
      "some information about the shortest protein length: sp|P80826|CWP02_ARATH 65 kDa cell wall protein (Fragment) OS=Arabidopsis thaliana PE=1 SV=1\n",
      "some information about the longest protein length: sp|A2ASS6|TITIN_MOUSE Titin OS=Mus musculus GN=Ttn PE=1 SV=1\n"
     ]
    }
   ],
   "source": [
    "#getting indices of the longest and shortest mouse proteins\n",
    "max_prot_index = length_list.index(max(length_list))\n",
    "min_prot_index = length_list.index(min(length_list))\n",
    "\n",
    "#let's get the descriptions using these indices\n",
    "print(\"some information about the shortest protein length:\", \n",
    "      prot_des[min_prot_index])\n",
    "print(\"some information about the longest protein length:\", \n",
    "      prot_des[max_prot_index])"
   ]
  },
  {
   "cell_type": "code",
   "execution_count": null,
   "metadata": {
    "collapsed": true
   },
   "outputs": [],
   "source": []
  },
  {
   "cell_type": "code",
   "execution_count": 15,
   "metadata": {
    "collapsed": false
   },
   "outputs": [
    {
     "data": {
      "image/png": "[encoded data removed]",
      "text/plain": [
       "<matplotlib.figure.Figure at 0x108d31b38>"
      ]
     },
     "metadata": {},
     "output_type": "display_data"
    }
   ],
   "source": [
    "#plotting the histogram of protein lengths\n",
    "plt.hist(np.log(length_list), bins= 200)\n",
    "plt.title(\"histogram of mouse protein lengths\")\n",
    "plt.xlabel('protein length (aa)')\n",
    "plt.ylabel('frequency')\n",
    "plt.show()\n",
    "\n",
    "#closing the file we opened\n",
    "h1.close()"
   ]
  }
 ],
 "metadata": {
  "kernelspec": {
   "display_name": "Python 3",
   "language": "python",
   "name": "python3"
  },
  "language_info": {
   "codemirror_mode": {
    "name": "ipython",
    "version": 3
   },
   "file_extension": ".py",
   "mimetype": "text/x-python",
   "name": "python",
   "nbconvert_exporter": "python",
   "pygments_lexer": "ipython3",
   "version": "3.4.3"
  }
 },
 "nbformat": 4,
 "nbformat_minor": 0
}
