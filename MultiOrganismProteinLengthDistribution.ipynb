{
 "cells": [
  {
   "cell_type": "markdown",
   "metadata": {},
   "source": [
    "#Evolutionary Cell Biology Course at KITP\n",
    "##Bioinformatics Session \n",
    "###Gita Mahmoudabadi | Phillips Lab | Caltech | 2015\n",
    "\n",
    "The purpose of this script is to extract protein length distributions (PLD) for organisms across different domains of life by looping through many .fasta files, plotting each organism's PLD, and writing the PLD statistics to a tab-delimited text file.   "
   ]
  },
  {
   "cell_type": "code",
   "execution_count": 7,
   "metadata": {
    "collapsed": false
   },
   "outputs": [],
   "source": [
    "#importing useful libraries\n",
    "from Bio import SeqIO\n",
    "from Bio.Seq import Seq\n",
    "from Bio.Alphabet import IUPAC\n",
    "from Bio.SeqRecord import SeqRecord\n",
    "import numpy as np\n",
    "import matplotlib.pyplot as plt\n",
    "%matplotlib inline\n",
    "import os\n",
    "import seaborn as sns\n",
    "sns.set_context(\"paper\")\n",
    "\n",
    "#let's open a text file to write protein length statistics, such as mean and max to for each organism.\n",
    "outputfile = open('protein_length_stat_multiple_organisms.txt', 'w')\n",
    "\n",
    "#the first line of the text file which will write the headings\n",
    "outputfile.write('\\tNumber of Records\\tMean Length\\tMedian Length\\tStandard Deviation\\tMaximum Length\\n')\n",
    "\n",
    "#we need to loop through all the files within the current directory, so let's list the files within the directory\n",
    "protfiles = os.listdir()\n",
    "for protfile in protfiles:\n",
    "    #there will be other file types in your directory so let's only look at .fasta files\n",
    "    if protfile.endswith(\".fasta\"):\n",
    "        h1= open(protfile)\n",
    "        #we need to write the name of the organism on the output text file, and the name is already the file name so we just need to get rid of the \".fasta\" extension \n",
    "        inputfilename = protfile[0:-6]\n",
    "        #writing the name of the organism to our output text file\n",
    "        outputfile.write(inputfilename + '\\t')\n",
    "        #parsing through each protein record of each .fasta file using SeqIO\n",
    "        prot_records = SeqIO.parse(h1,'fasta')\n",
    "        #initializing two vectors to hold the length and the description of each protein. \n",
    "        length_list =[]\n",
    "        prot_des =[]\n",
    "        #for each protein let's calculate the protein length and get the protein description and append the information to the respective lists\n",
    "        for prot_record in prot_records:\n",
    "            prot_length = len(prot_record.seq)\n",
    "            length_list.append(prot_length)\n",
    "        #we're going to summarize the length statistics for each file within the directory and write it to the output text file \n",
    "        numrec = str(len(length_list))\n",
    "        meanl = str(int(round(np.mean(length_list))))\n",
    "        medl = str(int(round(np.median(length_list))))\n",
    "        dev = str(int(round(np.std(length_list))))\n",
    "        maxl = str(max(length_list))\n",
    "        outputfile.write(numrec + '\\t' + meanl + '\\t' + medl + '\\t' + dev + '\\t' + maxl + '\\n')\n",
    "        #closing the fasta file associated with the organism that we just looked at\n",
    "        h1.close()        \n",
    "                                                         \n",
    "        # making a histogram of protein lengths for each fasta file examined.     \n",
    "        fig = plt.figure(dpi = 600)\n",
    "        ax = fig.add_subplot(111)\n",
    "        plt.hist(np.log(length_list), bins=200)    \n",
    "        plt.xlabel(\"Protein length (Amino Acids)\")\n",
    "        plt.title(inputfilename)\n",
    "        plt.xlim([0,11])\n",
    "        plt.ylabel(\"Frequency\")        \n",
    "        figuretext = \"Mean= \" + meanl + \"\\nStd= \" + dev + \"\\nNo. Sequences=\" + numrec\n",
    "        plt.text(0.8, 0.8, figuretext , horizontalalignment='center', verticalalignment='center',transform = ax.transAxes, fontsize=5)\n",
    "\n",
    "        # saving the plot as a pdf in the same directory as the one we started in.        \n",
    "        plt.savefig(inputfilename + \" protein length histogram.pdf\")\n",
    "        # closing the plot        \n",
    "        plt.close()\n",
    "# closing the outputfile.txt after we have extracted and written the information from all fasta files.     \n",
    "outputfile.close() "
   ]
  }
 ],
 "metadata": {
  "kernelspec": {
   "display_name": "Python 3",
   "language": "python",
   "name": "python3"
  },
  "language_info": {
   "codemirror_mode": {
    "name": "ipython",
    "version": 3
   },
   "file_extension": ".py",
   "mimetype": "text/x-python",
   "name": "python",
   "nbconvert_exporter": "python",
   "pygments_lexer": "ipython3",
   "version": "3.4.3"
  }
 },
 "nbformat": 4,
 "nbformat_minor": 0
}
