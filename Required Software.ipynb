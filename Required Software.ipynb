{
 "cells": [
  {
   "cell_type": "markdown",
   "metadata": {},
   "source": [
    "##Bioinformatics Workshop  \n",
    "###Kavli Institute for Theoretical Physics\n",
    "#### Gita Mahmoudabadi | Phillips Lab | Caltech | August 2015\n",
    "Please find instructions for installing various softwares required for the Evolutionary Cell Biology course at KITP. \n",
    "* Anaconda (Python 3)\n",
    "    * http://continuum.io/downloads \n",
    "    * Make sure to indicate that you want Python 3.4, and place Anaconda in your home directory\n",
    "    * Please take a look at http://docs.continuum.io/anaconda/install for more detailed instructions\n",
    "       \n",
    "* Geneious \n",
    "    * http://www.geneious.com/download\n",
    "    * http://www.geneious.com/request-trial (request a 14 day trial)\n",
    "    * Use License Key emailed to you via Biomatters to access your Geneious Pro trial period.\n",
    "    \n",
    "* Seaview \n",
    "    * http://doua.prabi.fr/software/seaview\n",
    "    * On Mac OS Yosemite I received the following message: “seaview” can’t be opened because it is from an unidentified developer. If you encounter a similar problem, go to System Preferences, Security and Privacy, and click on \"open anyway\" next to the blurb about Seaview.\n",
    "    \n",
    "* Text Wrangler or Sublime text editor\n",
    "    * http://www.barebones.com/products/textwrangler/ (Text Wrangler, only unfortunately available for Mac OS X 10.6.8 or later)\n",
    "    * http://www.sublimetext.com/2 (Sublime, available for OS X, Linux, and Windows)\n",
    "    \n"
   ]
  }
 ],
 "metadata": {
  "kernelspec": {
   "display_name": "Python 3",
   "language": "python",
   "name": "python3"
  },
  "language_info": {
   "codemirror_mode": {
    "name": "ipython",
    "version": 3
   },
   "file_extension": ".py",
   "mimetype": "text/x-python",
   "name": "python",
   "nbconvert_exporter": "python",
   "pygments_lexer": "ipython3",
   "version": "3.4.3"
  }
 },
 "nbformat": 4,
 "nbformat_minor": 0
}
